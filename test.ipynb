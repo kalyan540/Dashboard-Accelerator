{
 "cells": [
  {
   "cell_type": "code",
   "execution_count": 40,
   "metadata": {},
   "outputs": [
    {
     "name": "stdout",
     "output_type": "stream",
     "text": [
      "Note: you may need to restart the kernel to use updated packages.Collecting tabulate\n",
      "  Downloading tabulate-0.9.0-py3-none-any.whl (35 kB)\n",
      "Installing collected packages: tabulate\n",
      "Successfully installed tabulate-0.9.0\n",
      "\n"
     ]
    },
    {
     "name": "stderr",
     "output_type": "stream",
     "text": [
      "  WARNING: The script tabulate.exe is installed in 'c:\\Users\\Lenovo\\AppData\\Local\\Programs\\Python\\Python310\\Scripts' which is not on PATH.\n",
      "  Consider adding this directory to PATH or, if you prefer to suppress this warning, use --no-warn-script-location.\n",
      "WARNING: You are using pip version 21.2.3; however, version 24.2 is available.\n",
      "You should consider upgrading via the 'c:\\Users\\Lenovo\\AppData\\Local\\Programs\\Python\\Python310\\python.exe -m pip install --upgrade pip' command.\n"
     ]
    }
   ],
   "source": [
    "pip install tabulate"
   ]
  },
  {
   "cell_type": "code",
   "execution_count": 39,
   "metadata": {},
   "outputs": [
    {
     "ename": "SyntaxError",
     "evalue": "invalid syntax. Perhaps you forgot a comma? (2593707053.py, line 2)",
     "output_type": "error",
     "traceback": [
      "\u001b[1;36m  Cell \u001b[1;32mIn[39], line 2\u001b[1;36m\u001b[0m\n\u001b[1;33m    pip install tabulate\u001b[0m\n\u001b[1;37m        ^\u001b[0m\n\u001b[1;31mSyntaxError\u001b[0m\u001b[1;31m:\u001b[0m invalid syntax. Perhaps you forgot a comma?\n"
     ]
    }
   ],
   "source": [
    "#pip install pandas\n",
    "pip install tabulate"
   ]
  },
  {
   "cell_type": "code",
   "execution_count": 63,
   "metadata": {},
   "outputs": [
    {
     "name": "stdout",
     "output_type": "stream",
     "text": [
      "[{'country_code': 1, 'population': 98765.0}, {'country_code': 1, 'population': 76544567.0}, {'country_code': 1, 'population': 9878655.0}, {'country_code': 1, 'population': 8760987.0}, {'country_code': 1, 'population': 245628.0}]\n",
      "NLD      IND                                         USA                                            DEU                                           CHE                                           0       98765.0\n",
      "1    76544567.0\n",
      "2     9878655.0\n",
      "3     8760987.0\n",
      "4      245628.0\n",
      "Name: AVG(population), dtype: float64\n",
      "-------  ------------------------------------------  ---------------------------------------------  --------------------------------------------  --------------------------------------------  -------------------------------------------\n",
      "0        N                                           L                                              D\n",
      "1        I                                           N                                              D\n",
      "2        U                                           S                                              A\n",
      "3        D                                           E                                              U\n",
      "4        C                                           H                                              E\n",
      "m1       98765.0                                     76544567.0                                     9878655.0                                     8760987.0                                     245628.0\n",
      "m2       98765.0                                     76544567.0                                     9878655.0                                     8760987.0                                     245628.0\n",
      "tooltip  {'country_code': 1, 'population': 98765.0}  {'country_code': 1, 'population': 76544567.0}  {'country_code': 1, 'population': 9878655.0}  {'country_code': 1, 'population': 8760987.0}  {'country_code': 1, 'population': 245628.0}\n",
      "+---------+--------------------------------------------+-----------------------------------------------+----------------------------------------------+----------------------------------------------+---------------------------------------------+\n",
      "| NLD     | IND                                        | USA                                           | DEU                                          | CHE                                          | 0       98765.0                             |\n",
      "|         |                                            |                                               |                                              |                                              | 1    76544567.0                             |\n",
      "|         |                                            |                                               |                                              |                                              | 2     9878655.0                             |\n",
      "|         |                                            |                                               |                                              |                                              | 3     8760987.0                             |\n",
      "|         |                                            |                                               |                                              |                                              | 4      245628.0                             |\n",
      "|         |                                            |                                               |                                              |                                              | Name: AVG(population), dtype: float64       |\n",
      "|---------+--------------------------------------------+-----------------------------------------------+----------------------------------------------+----------------------------------------------+---------------------------------------------|\n",
      "| 0       | N                                          | L                                             | D                                            |                                              |                                             |\n",
      "| 1       | I                                          | N                                             | D                                            |                                              |                                             |\n",
      "| 2       | U                                          | S                                             | A                                            |                                              |                                             |\n",
      "| 3       | D                                          | E                                             | U                                            |                                              |                                             |\n",
      "| 4       | C                                          | H                                             | E                                            |                                              |                                             |\n",
      "| m1      | 98765.0                                    | 76544567.0                                    | 9878655.0                                    | 8760987.0                                    | 245628.0                                    |\n",
      "| m2      | 98765.0                                    | 76544567.0                                    | 9878655.0                                    | 8760987.0                                    | 245628.0                                    |\n",
      "| tooltip | {'country_code': 1, 'population': 98765.0} | {'country_code': 1, 'population': 76544567.0} | {'country_code': 1, 'population': 9878655.0} | {'country_code': 1, 'population': 8760987.0} | {'country_code': 1, 'population': 245628.0} |\n",
      "+---------+--------------------------------------------+-----------------------------------------------+----------------------------------------------+----------------------------------------------+---------------------------------------------+\n"
     ]
    },
    {
     "name": "stderr",
     "output_type": "stream",
     "text": [
      "C:\\Users\\Lenovo\\AppData\\Local\\Temp\\ipykernel_13384\\1564589941.py:17: SettingWithCopyWarning: \n",
      "A value is trying to be set on a copy of a slice from a DataFrame\n",
      "\n",
      "See the caveats in the documentation: https://pandas.pydata.org/pandas-docs/stable/user_guide/indexing.html#returning-a-view-versus-a-copy\n",
      "  ndf[\"m1\"] = df[\"AVG(population)\"]\n"
     ]
    }
   ],
   "source": [
    "import pandas as pd\n",
    "from tabulate import tabulate\n",
    "\n",
    "# Define the data\n",
    "data = {\n",
    "    \"country_code\": [\"NLD\", \"IND\", \"USA\", \"DEU\", \"CHE\"],\n",
    "    \"AVG(population)\": [98765.0, 76544567.0, 9878655.0, 8760987.0, 245628.0],\n",
    "    \"COUNT(country_code)\": [1, 1, 1, 1, 1]\n",
    "}\n",
    "\n",
    "# Create the DataFrame\n",
    "df = pd.DataFrame(data)\n",
    "metrics = ['COUNT(country_code)','AVG(population)']\n",
    "# Display the DataFrame\n",
    "#print(df)\n",
    "ndf = df[\"country_code\"]\n",
    "ndf[\"m1\"] = df[\"AVG(population)\"]\n",
    "ndf[\"m2\"] = ndf[\"m1\"]\n",
    "tooltip_data = []\n",
    "for _, row in df.iterrows():\n",
    "    tooltip_entry = {}\n",
    "    for metric_name in metrics:\n",
    "        col_name = metric_name.split(\"(\")[-1].replace(\")\", \"\")\n",
    "        if metric_name in df.columns:\n",
    "            value = row[metric_name]\n",
    "            tooltip_entry[col_name]= value\n",
    "    tooltip_data.append(tooltip_entry)\n",
    "print(tooltip_data)\n",
    "ndf[\"tooltip\"] = tooltip_data\n",
    "print(tabulate(ndf, headers='keys', tablefmt='sql'))\n",
    "columns = [\"country\", \"m1\", \"m2\", \"tooltip\"]\n",
    "df = ndf\n",
    "df.columns = columns\n",
    "#print(df)\n",
    "print(tabulate(df, headers='keys', tablefmt='psql'))"
   ]
  }
 ],
 "metadata": {
  "kernelspec": {
   "display_name": "Python 3",
   "language": "python",
   "name": "python3"
  },
  "language_info": {
   "codemirror_mode": {
    "name": "ipython",
    "version": 3
   },
   "file_extension": ".py",
   "mimetype": "text/x-python",
   "name": "python",
   "nbconvert_exporter": "python",
   "pygments_lexer": "ipython3",
   "version": "3.10.0"
  }
 },
 "nbformat": 4,
 "nbformat_minor": 2
}
